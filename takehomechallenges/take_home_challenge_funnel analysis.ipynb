{
 "cells": [
  {
   "cell_type": "markdown",
   "metadata": {},
   "source": [
    "# FUNNEL ANALYSIS"
   ]
  },
  {
   "cell_type": "markdown",
   "metadata": {},
   "source": [
    "## READ DATA"
   ]
  },
  {
   "cell_type": "code",
   "execution_count": 1,
   "metadata": {},
   "outputs": [
    {
     "name": "stdout",
     "output_type": "stream",
     "text": [
      "   user_id       page\n",
      "0   313593  home_page\n",
      "1   468315  home_page\n",
      "2   264005  home_page\n",
      "3   290784  home_page\n",
      "4   639104  home_page\n"
     ]
    }
   ],
   "source": [
    "#get basic information about each table                                                                   \n",
    "import pandas                                                                                             \n",
    "import seaborn as sns                                                                                     \n",
    "import matplotlib.pyplot as plt                                                                           \n",
    "home_page=pandas.read_csv(\"/Users/apple/Desktop/takehomechallenges/Funnel_Analysis/home_page_table.csv\")  \n",
    "print(home_page.head(5))                                                                                  "
   ]
  },
  {
   "cell_type": "code",
   "execution_count": 3,
   "metadata": {},
   "outputs": [
    {
     "name": "stdout",
     "output_type": "stream",
     "text": [
      "   user_id                       page\n",
      "0   123100  payment_confirmation_page\n",
      "1   704999  payment_confirmation_page\n",
      "2   407188  payment_confirmation_page\n",
      "3   538348  payment_confirmation_page\n",
      "4   841681  payment_confirmation_page\n"
     ]
    }
   ],
   "source": [
    "confirmation=pandas.read_csv(\"/Users/apple/Desktop/takehomechallenges/Funnel_Analysis/payment_confirmation_table.csv\") \n",
    "print(confirmation.head(5))                                                                                            "
   ]
  },
  {
   "cell_type": "code",
   "execution_count": 4,
   "metadata": {},
   "outputs": [
    {
     "name": "stdout",
     "output_type": "stream",
     "text": [
      "   user_id          page\n",
      "0   253019  payment_page\n",
      "1   310478  payment_page\n",
      "2   304081  payment_page\n",
      "3   901286  payment_page\n",
      "4   195052  payment_page\n"
     ]
    }
   ],
   "source": [
    "payment_page=pandas.read_csv(\"/Users/apple/Desktop/takehomechallenges/Funnel_Analysis/payment_page_table.csv\")   \n",
    "print(payment_page.head(5))                                                                                      "
   ]
  },
  {
   "cell_type": "code",
   "execution_count": 5,
   "metadata": {},
   "outputs": [
    {
     "name": "stdout",
     "output_type": "stream",
     "text": [
      "   user_id         page\n",
      "0    15866  search_page\n",
      "1   347058  search_page\n",
      "2   577020  search_page\n",
      "3   780347  search_page\n",
      "4   383739  search_page\n"
     ]
    }
   ],
   "source": [
    "search=pandas.read_csv(\"/Users/apple/Desktop/takehomechallenges/Funnel_Analysis/search_page_table.csv\")       \n",
    "print(search.head(5))                                                                                         "
   ]
  },
  {
   "cell_type": "code",
   "execution_count": 28,
   "metadata": {},
   "outputs": [
    {
     "name": "stdout",
     "output_type": "stream",
     "text": [
      "   user_id        date   device     sex\n",
      "0   450007  2015-02-28  Desktop  Female\n",
      "1   756838  2015-01-13  Desktop    Male\n",
      "2   568983  2015-04-09  Desktop    Male\n",
      "3   190794  2015-02-18  Desktop  Female\n",
      "4   537909  2015-01-15  Desktop    Male\n"
     ]
    },
    {
     "data": {
      "text/html": [
       "<div>\n",
       "<style scoped>\n",
       "    .dataframe tbody tr th:only-of-type {\n",
       "        vertical-align: middle;\n",
       "    }\n",
       "\n",
       "    .dataframe tbody tr th {\n",
       "        vertical-align: top;\n",
       "    }\n",
       "\n",
       "    .dataframe thead th {\n",
       "        text-align: right;\n",
       "    }\n",
       "</style>\n",
       "<table border=\"1\" class=\"dataframe\">\n",
       "  <thead>\n",
       "    <tr style=\"text-align: right;\">\n",
       "      <th></th>\n",
       "      <th>user_id</th>\n",
       "      <th>date</th>\n",
       "      <th>device</th>\n",
       "      <th>sex</th>\n",
       "    </tr>\n",
       "  </thead>\n",
       "  <tbody>\n",
       "    <tr>\n",
       "      <td>count</td>\n",
       "      <td>90400.000000</td>\n",
       "      <td>90400</td>\n",
       "      <td>90400</td>\n",
       "      <td>90400</td>\n",
       "    </tr>\n",
       "    <tr>\n",
       "      <td>unique</td>\n",
       "      <td>NaN</td>\n",
       "      <td>120</td>\n",
       "      <td>2</td>\n",
       "      <td>2</td>\n",
       "    </tr>\n",
       "    <tr>\n",
       "      <td>top</td>\n",
       "      <td>NaN</td>\n",
       "      <td>2015-02-08</td>\n",
       "      <td>Desktop</td>\n",
       "      <td>Male</td>\n",
       "    </tr>\n",
       "    <tr>\n",
       "      <td>freq</td>\n",
       "      <td>NaN</td>\n",
       "      <td>877</td>\n",
       "      <td>60200</td>\n",
       "      <td>45325</td>\n",
       "    </tr>\n",
       "    <tr>\n",
       "      <td>mean</td>\n",
       "      <td>498709.683473</td>\n",
       "      <td>NaN</td>\n",
       "      <td>NaN</td>\n",
       "      <td>NaN</td>\n",
       "    </tr>\n",
       "    <tr>\n",
       "      <td>std</td>\n",
       "      <td>289040.674085</td>\n",
       "      <td>NaN</td>\n",
       "      <td>NaN</td>\n",
       "      <td>NaN</td>\n",
       "    </tr>\n",
       "    <tr>\n",
       "      <td>min</td>\n",
       "      <td>17.000000</td>\n",
       "      <td>NaN</td>\n",
       "      <td>NaN</td>\n",
       "      <td>NaN</td>\n",
       "    </tr>\n",
       "    <tr>\n",
       "      <td>25%</td>\n",
       "      <td>247978.750000</td>\n",
       "      <td>NaN</td>\n",
       "      <td>NaN</td>\n",
       "      <td>NaN</td>\n",
       "    </tr>\n",
       "    <tr>\n",
       "      <td>50%</td>\n",
       "      <td>498267.000000</td>\n",
       "      <td>NaN</td>\n",
       "      <td>NaN</td>\n",
       "      <td>NaN</td>\n",
       "    </tr>\n",
       "    <tr>\n",
       "      <td>75%</td>\n",
       "      <td>749789.250000</td>\n",
       "      <td>NaN</td>\n",
       "      <td>NaN</td>\n",
       "      <td>NaN</td>\n",
       "    </tr>\n",
       "    <tr>\n",
       "      <td>max</td>\n",
       "      <td>999979.000000</td>\n",
       "      <td>NaN</td>\n",
       "      <td>NaN</td>\n",
       "      <td>NaN</td>\n",
       "    </tr>\n",
       "  </tbody>\n",
       "</table>\n",
       "</div>"
      ],
      "text/plain": [
       "              user_id        date   device    sex\n",
       "count    90400.000000       90400    90400  90400\n",
       "unique            NaN         120        2      2\n",
       "top               NaN  2015-02-08  Desktop   Male\n",
       "freq              NaN         877    60200  45325\n",
       "mean    498709.683473         NaN      NaN    NaN\n",
       "std     289040.674085         NaN      NaN    NaN\n",
       "min         17.000000         NaN      NaN    NaN\n",
       "25%     247978.750000         NaN      NaN    NaN\n",
       "50%     498267.000000         NaN      NaN    NaN\n",
       "75%     749789.250000         NaN      NaN    NaN\n",
       "max     999979.000000         NaN      NaN    NaN"
      ]
     },
     "execution_count": 28,
     "metadata": {},
     "output_type": "execute_result"
    }
   ],
   "source": [
    "user_table=pandas.read_csv(\"/Users/apple/Desktop/takehomechallenges/Funnel_Analysis/user_table.csv\")    \n",
    "print(user_table.head(5)) \n",
    "user_table.describe(include=\"all\")"
   ]
  },
  {
   "cell_type": "code",
   "execution_count": 7,
   "metadata": {},
   "outputs": [
    {
     "name": "stdout",
     "output_type": "stream",
     "text": [
      "(90400, 2) (452, 2) (6030, 2) (45200, 2) (90400, 4)\n"
     ]
    }
   ],
   "source": [
    "print(home_page.shape,confirmation.shape,payment_page.shape,search.shape,user_table.shape)     "
   ]
  },
  {
   "cell_type": "markdown",
   "metadata": {},
   "source": [
    "## DATA MANIPULATION"
   ]
  },
  {
   "cell_type": "code",
   "execution_count": 8,
   "metadata": {},
   "outputs": [
    {
     "name": "stdout",
     "output_type": "stream",
     "text": [
      "              user_id        date   device    sex  page_home  \\\n",
      "count    90400.000000       90400    90400  90400      90400   \n",
      "unique            NaN         120        2      2          1   \n",
      "top               NaN  2015-02-08  Desktop   Male  home_page   \n",
      "freq              NaN         877    60200  45325      90400   \n",
      "mean    498709.683473         NaN      NaN    NaN        NaN   \n",
      "std     289040.674085         NaN      NaN    NaN        NaN   \n",
      "min         17.000000         NaN      NaN    NaN        NaN   \n",
      "25%     247978.750000         NaN      NaN    NaN        NaN   \n",
      "50%     498267.000000         NaN      NaN    NaN        NaN   \n",
      "75%     749789.250000         NaN      NaN    NaN        NaN   \n",
      "max     999979.000000         NaN      NaN    NaN        NaN   \n",
      "\n",
      "                page_confirmation page_payment_page  page_search  \n",
      "count                         452              6030        45200  \n",
      "unique                          1                 1            1  \n",
      "top     payment_confirmation_page      payment_page  search_page  \n",
      "freq                          452              6030        45200  \n",
      "mean                          NaN               NaN          NaN  \n",
      "std                           NaN               NaN          NaN  \n",
      "min                           NaN               NaN          NaN  \n",
      "25%                           NaN               NaN          NaN  \n",
      "50%                           NaN               NaN          NaN  \n",
      "75%                           NaN               NaN          NaN  \n",
      "max                           NaN               NaN          NaN  \n"
     ]
    }
   ],
   "source": [
    "#merge multiple table into a big table                                                                    \n",
    "df=pandas.merge(left=user_table,right=home_page,how=\"left\",on=\"user_id\")                                  \n",
    "df=pandas.merge(left=df,right=confirmation,how=\"left\",on=\"user_id\",suffixes=(\"_home\",\"_confirmation\"))    \n",
    "df=pandas.merge(left=df,right=payment_page,how=\"left\",on=\"user_id\")                                       \n",
    "df=pandas.merge(left=df,right=search,how=\"left\",on=\"user_id\",suffixes=(\"_payment_page\",\"_search\"))        \n",
    "print(df.describe(include=\"all\"))                                                                         \n",
    "                                                                                                          "
   ]
  },
  {
   "cell_type": "code",
   "execution_count": 10,
   "metadata": {},
   "outputs": [
    {
     "data": {
      "text/html": [
       "<div>\n",
       "<style scoped>\n",
       "    .dataframe tbody tr th:only-of-type {\n",
       "        vertical-align: middle;\n",
       "    }\n",
       "\n",
       "    .dataframe tbody tr th {\n",
       "        vertical-align: top;\n",
       "    }\n",
       "\n",
       "    .dataframe thead th {\n",
       "        text-align: right;\n",
       "    }\n",
       "</style>\n",
       "<table border=\"1\" class=\"dataframe\">\n",
       "  <thead>\n",
       "    <tr style=\"text-align: right;\">\n",
       "      <th></th>\n",
       "      <th>variable</th>\n",
       "      <th>conversion</th>\n",
       "    </tr>\n",
       "  </thead>\n",
       "  <tbody>\n",
       "    <tr>\n",
       "      <td>4</td>\n",
       "      <td>page_home</td>\n",
       "      <td>1.000000</td>\n",
       "    </tr>\n",
       "    <tr>\n",
       "      <td>5</td>\n",
       "      <td>page_confirmation</td>\n",
       "      <td>0.005000</td>\n",
       "    </tr>\n",
       "    <tr>\n",
       "      <td>6</td>\n",
       "      <td>page_payment_page</td>\n",
       "      <td>0.066704</td>\n",
       "    </tr>\n",
       "    <tr>\n",
       "      <td>7</td>\n",
       "      <td>page_search</td>\n",
       "      <td>0.500000</td>\n",
       "    </tr>\n",
       "  </tbody>\n",
       "</table>\n",
       "</div>"
      ],
      "text/plain": [
       "            variable  conversion\n",
       "4          page_home    1.000000\n",
       "5  page_confirmation    0.005000\n",
       "6  page_payment_page    0.066704\n",
       "7        page_search    0.500000"
      ]
     },
     "execution_count": 10,
     "metadata": {},
     "output_type": "execute_result"
    }
   ],
   "source": [
    "#get OVERALL conversion ratio                                                                                                                                                             \n",
    "conver_ratio=1-pandas.DataFrame(df.isnull().sum())/len(df)                                    \n",
    "df_final=conver_ratio.reset_index().rename(columns={'index':'variable',0:\"conversion\"})[4:]  \n",
    "df_final.head(5)"
   ]
  },
  {
   "cell_type": "code",
   "execution_count": 11,
   "metadata": {},
   "outputs": [
    {
     "data": {
      "image/png": "[encoded data removed]",
      "text/plain": [
       "<Figure size 576x360 with 1 Axes>"
      ]
     },
     "metadata": {
      "needs_background": "light"
     },
     "output_type": "display_data"
    }
   ],
   "source": [
    "#visualization                                                             \n",
    "fig, ax = plt.subplots(figsize=(8, 5))                                     \n",
    "sns.barplot(x='variable', y='conversion', data=df_final,ax=ax)             \n",
    "ax.set_xlabel('Page', fontsize=12)                                         \n",
    "ax.set_ylabel('Ratio of Visitors', fontsize=12)                            \n",
    "plt.show()                                                                 "
   ]
  },
  {
   "cell_type": "markdown",
   "metadata": {},
   "source": [
    "## conversion rate for each pages"
   ]
  },
  {
   "cell_type": "code",
   "execution_count": 16,
   "metadata": {},
   "outputs": [],
   "source": [
    "def conversion_rate(df):\n",
    "    rates = []\n",
    "    tmp = df[~df['page_home'].isnull()]\n",
    "    rates.append(1 - tmp['page_search'].isnull().sum() / len(tmp))\n",
    "    \n",
    "    tmp = df[~df['page_search'].isnull()]\n",
    "    rates.append(1 - tmp['page_payment_page'].isnull().sum() / len(tmp))\n",
    "    \n",
    "    tmp = df[~df['page_payment_page'].isnull()]\n",
    "    rates.append(1 - tmp['page_confirmation'].isnull().sum() / len(tmp))\n",
    "    \n",
    "    return rates"
   ]
  },
  {
   "cell_type": "markdown",
   "metadata": {},
   "source": [
    "### 1.overall"
   ]
  },
  {
   "cell_type": "code",
   "execution_count": 22,
   "metadata": {},
   "outputs": [
    {
     "name": "stdout",
     "output_type": "stream",
     "text": [
      "{'Page': ['home', 'search', 'payment'], 'Conversion Rate': [0.5, 0.13340707964601772, 0.07495854063018237]}\n",
      "      Page  Conversion Rate\n",
      "0     home         0.500000\n",
      "1   search         0.133407\n",
      "2  payment         0.074959\n"
     ]
    }
   ],
   "source": [
    "rates = conversion_rate(df)\n",
    "names = ['home', 'search', 'payment']\n",
    "maps = {'Page': ['home', 'search', 'payment'], 'Conversion Rate': rates}\n",
    "print(maps)\n",
    "overall_conv = pandas.DataFrame(maps, columns=['Page', 'Conversion Rate'])\n",
    "print(overall_conv)"
   ]
  },
  {
   "cell_type": "code",
   "execution_count": 23,
   "metadata": {},
   "outputs": [
    {
     "data": {
      "image/png": "[encoded data removed]",
      "text/plain": [
       "<Figure size 576x360 with 1 Axes>"
      ]
     },
     "metadata": {
      "needs_background": "light"
     },
     "output_type": "display_data"
    }
   ],
   "source": [
    "fig, ax = plt.subplots(figsize=(8, 5))\n",
    "sns.barplot(x='Page', y='Conversion Rate', data=overall_conv, ax=ax)\n",
    "plt.show()"
   ]
  },
  {
   "cell_type": "markdown",
   "metadata": {},
   "source": [
    "### 2. based on devices"
   ]
  },
  {
   "cell_type": "code",
   "execution_count": 27,
   "metadata": {},
   "outputs": [
    {
     "data": {
      "text/html": [
       "<div>\n",
       "<style scoped>\n",
       "    .dataframe tbody tr th:only-of-type {\n",
       "        vertical-align: middle;\n",
       "    }\n",
       "\n",
       "    .dataframe tbody tr th {\n",
       "        vertical-align: top;\n",
       "    }\n",
       "\n",
       "    .dataframe thead th {\n",
       "        text-align: right;\n",
       "    }\n",
       "</style>\n",
       "<table border=\"1\" class=\"dataframe\">\n",
       "  <thead>\n",
       "    <tr style=\"text-align: right;\">\n",
       "      <th></th>\n",
       "      <th>user_id</th>\n",
       "      <th>date</th>\n",
       "      <th>device</th>\n",
       "      <th>sex</th>\n",
       "      <th>page_home</th>\n",
       "      <th>page_confirmation</th>\n",
       "      <th>page_payment_page</th>\n",
       "      <th>page_search</th>\n",
       "    </tr>\n",
       "  </thead>\n",
       "  <tbody>\n",
       "    <tr>\n",
       "      <td>count</td>\n",
       "      <td>60200.000000</td>\n",
       "      <td>60200</td>\n",
       "      <td>60200</td>\n",
       "      <td>60200</td>\n",
       "      <td>60200</td>\n",
       "      <td>150</td>\n",
       "      <td>3010</td>\n",
       "      <td>30100</td>\n",
       "    </tr>\n",
       "    <tr>\n",
       "      <td>unique</td>\n",
       "      <td>NaN</td>\n",
       "      <td>120</td>\n",
       "      <td>1</td>\n",
       "      <td>2</td>\n",
       "      <td>1</td>\n",
       "      <td>1</td>\n",
       "      <td>1</td>\n",
       "      <td>1</td>\n",
       "    </tr>\n",
       "    <tr>\n",
       "      <td>top</td>\n",
       "      <td>NaN</td>\n",
       "      <td>2015-02-08</td>\n",
       "      <td>Desktop</td>\n",
       "      <td>Male</td>\n",
       "      <td>home_page</td>\n",
       "      <td>payment_confirmation_page</td>\n",
       "      <td>payment_page</td>\n",
       "      <td>search_page</td>\n",
       "    </tr>\n",
       "    <tr>\n",
       "      <td>freq</td>\n",
       "      <td>NaN</td>\n",
       "      <td>585</td>\n",
       "      <td>60200</td>\n",
       "      <td>30203</td>\n",
       "      <td>60200</td>\n",
       "      <td>150</td>\n",
       "      <td>3010</td>\n",
       "      <td>30100</td>\n",
       "    </tr>\n",
       "    <tr>\n",
       "      <td>mean</td>\n",
       "      <td>498484.582492</td>\n",
       "      <td>NaN</td>\n",
       "      <td>NaN</td>\n",
       "      <td>NaN</td>\n",
       "      <td>NaN</td>\n",
       "      <td>NaN</td>\n",
       "      <td>NaN</td>\n",
       "      <td>NaN</td>\n",
       "    </tr>\n",
       "    <tr>\n",
       "      <td>std</td>\n",
       "      <td>289036.870377</td>\n",
       "      <td>NaN</td>\n",
       "      <td>NaN</td>\n",
       "      <td>NaN</td>\n",
       "      <td>NaN</td>\n",
       "      <td>NaN</td>\n",
       "      <td>NaN</td>\n",
       "      <td>NaN</td>\n",
       "    </tr>\n",
       "    <tr>\n",
       "      <td>min</td>\n",
       "      <td>17.000000</td>\n",
       "      <td>NaN</td>\n",
       "      <td>NaN</td>\n",
       "      <td>NaN</td>\n",
       "      <td>NaN</td>\n",
       "      <td>NaN</td>\n",
       "      <td>NaN</td>\n",
       "      <td>NaN</td>\n",
       "    </tr>\n",
       "    <tr>\n",
       "      <td>25%</td>\n",
       "      <td>247371.500000</td>\n",
       "      <td>NaN</td>\n",
       "      <td>NaN</td>\n",
       "      <td>NaN</td>\n",
       "      <td>NaN</td>\n",
       "      <td>NaN</td>\n",
       "      <td>NaN</td>\n",
       "      <td>NaN</td>\n",
       "    </tr>\n",
       "    <tr>\n",
       "      <td>50%</td>\n",
       "      <td>498406.000000</td>\n",
       "      <td>NaN</td>\n",
       "      <td>NaN</td>\n",
       "      <td>NaN</td>\n",
       "      <td>NaN</td>\n",
       "      <td>NaN</td>\n",
       "      <td>NaN</td>\n",
       "      <td>NaN</td>\n",
       "    </tr>\n",
       "    <tr>\n",
       "      <td>75%</td>\n",
       "      <td>748622.250000</td>\n",
       "      <td>NaN</td>\n",
       "      <td>NaN</td>\n",
       "      <td>NaN</td>\n",
       "      <td>NaN</td>\n",
       "      <td>NaN</td>\n",
       "      <td>NaN</td>\n",
       "      <td>NaN</td>\n",
       "    </tr>\n",
       "    <tr>\n",
       "      <td>max</td>\n",
       "      <td>999979.000000</td>\n",
       "      <td>NaN</td>\n",
       "      <td>NaN</td>\n",
       "      <td>NaN</td>\n",
       "      <td>NaN</td>\n",
       "      <td>NaN</td>\n",
       "      <td>NaN</td>\n",
       "      <td>NaN</td>\n",
       "    </tr>\n",
       "  </tbody>\n",
       "</table>\n",
       "</div>"
      ],
      "text/plain": [
       "              user_id        date   device    sex  page_home  \\\n",
       "count    60200.000000       60200    60200  60200      60200   \n",
       "unique            NaN         120        1      2          1   \n",
       "top               NaN  2015-02-08  Desktop   Male  home_page   \n",
       "freq              NaN         585    60200  30203      60200   \n",
       "mean    498484.582492         NaN      NaN    NaN        NaN   \n",
       "std     289036.870377         NaN      NaN    NaN        NaN   \n",
       "min         17.000000         NaN      NaN    NaN        NaN   \n",
       "25%     247371.500000         NaN      NaN    NaN        NaN   \n",
       "50%     498406.000000         NaN      NaN    NaN        NaN   \n",
       "75%     748622.250000         NaN      NaN    NaN        NaN   \n",
       "max     999979.000000         NaN      NaN    NaN        NaN   \n",
       "\n",
       "                page_confirmation page_payment_page  page_search  \n",
       "count                         150              3010        30100  \n",
       "unique                          1                 1            1  \n",
       "top     payment_confirmation_page      payment_page  search_page  \n",
       "freq                          150              3010        30100  \n",
       "mean                          NaN               NaN          NaN  \n",
       "std                           NaN               NaN          NaN  \n",
       "min                           NaN               NaN          NaN  \n",
       "25%                           NaN               NaN          NaN  \n",
       "50%                           NaN               NaN          NaN  \n",
       "75%                           NaN               NaN          NaN  \n",
       "max                           NaN               NaN          NaN  "
      ]
     },
     "execution_count": 27,
     "metadata": {},
     "output_type": "execute_result"
    }
   ],
   "source": [
    "df_desktop=df[df[\"device\"]==\"Desktop\"]\n",
    "df_desktop.describe(include=\"all\")"
   ]
  },
  {
   "cell_type": "code",
   "execution_count": 56,
   "metadata": {},
   "outputs": [
    {
     "name": "stdout",
     "output_type": "stream",
     "text": [
      "{'Page': ['home', 'search', 'payment'], 'Conversion Rate': [0.5, 0.09999999999999998, 0.04983388704318936]}\n",
      "      Page  Conversion Rate\n",
      "0     home         0.500000\n",
      "1   search         0.100000\n",
      "2  payment         0.049834\n"
     ]
    }
   ],
   "source": [
    "desktop_rates = conversion_rate(df_desktop)\n",
    "names = ['home', 'search', 'payment']\n",
    "maps = {'Page': ['home', 'search', 'payment'], 'Conversion Rate': desktop_rates}\n",
    "print(maps)\n",
    "overall_conv_desktop = pandas.DataFrame(maps, columns=['Page', 'Conversion Rate'])\n",
    "print(overall_conv_desktop)"
   ]
  },
  {
   "cell_type": "code",
   "execution_count": 47,
   "metadata": {},
   "outputs": [
    {
     "data": {
      "text/html": [
       "<div>\n",
       "<style scoped>\n",
       "    .dataframe tbody tr th:only-of-type {\n",
       "        vertical-align: middle;\n",
       "    }\n",
       "\n",
       "    .dataframe tbody tr th {\n",
       "        vertical-align: top;\n",
       "    }\n",
       "\n",
       "    .dataframe thead th {\n",
       "        text-align: right;\n",
       "    }\n",
       "</style>\n",
       "<table border=\"1\" class=\"dataframe\">\n",
       "  <thead>\n",
       "    <tr style=\"text-align: right;\">\n",
       "      <th></th>\n",
       "      <th>user_id</th>\n",
       "      <th>date</th>\n",
       "      <th>device</th>\n",
       "      <th>sex</th>\n",
       "      <th>page_home</th>\n",
       "      <th>page_confirmation</th>\n",
       "      <th>page_payment_page</th>\n",
       "      <th>page_search</th>\n",
       "    </tr>\n",
       "  </thead>\n",
       "  <tbody>\n",
       "    <tr>\n",
       "      <td>count</td>\n",
       "      <td>30200.000000</td>\n",
       "      <td>30200</td>\n",
       "      <td>30200</td>\n",
       "      <td>30200</td>\n",
       "      <td>30200</td>\n",
       "      <td>302</td>\n",
       "      <td>3020</td>\n",
       "      <td>15100</td>\n",
       "    </tr>\n",
       "    <tr>\n",
       "      <td>unique</td>\n",
       "      <td>NaN</td>\n",
       "      <td>120</td>\n",
       "      <td>1</td>\n",
       "      <td>2</td>\n",
       "      <td>1</td>\n",
       "      <td>1</td>\n",
       "      <td>1</td>\n",
       "      <td>1</td>\n",
       "    </tr>\n",
       "    <tr>\n",
       "      <td>top</td>\n",
       "      <td>NaN</td>\n",
       "      <td>2015-02-08</td>\n",
       "      <td>Mobile</td>\n",
       "      <td>Male</td>\n",
       "      <td>home_page</td>\n",
       "      <td>payment_confirmation_page</td>\n",
       "      <td>payment_page</td>\n",
       "      <td>search_page</td>\n",
       "    </tr>\n",
       "    <tr>\n",
       "      <td>freq</td>\n",
       "      <td>NaN</td>\n",
       "      <td>292</td>\n",
       "      <td>30200</td>\n",
       "      <td>15122</td>\n",
       "      <td>30200</td>\n",
       "      <td>302</td>\n",
       "      <td>3020</td>\n",
       "      <td>15100</td>\n",
       "    </tr>\n",
       "    <tr>\n",
       "      <td>mean</td>\n",
       "      <td>499158.394702</td>\n",
       "      <td>NaN</td>\n",
       "      <td>NaN</td>\n",
       "      <td>NaN</td>\n",
       "      <td>NaN</td>\n",
       "      <td>NaN</td>\n",
       "      <td>NaN</td>\n",
       "      <td>NaN</td>\n",
       "    </tr>\n",
       "    <tr>\n",
       "      <td>std</td>\n",
       "      <td>289052.518706</td>\n",
       "      <td>NaN</td>\n",
       "      <td>NaN</td>\n",
       "      <td>NaN</td>\n",
       "      <td>NaN</td>\n",
       "      <td>NaN</td>\n",
       "      <td>NaN</td>\n",
       "      <td>NaN</td>\n",
       "    </tr>\n",
       "    <tr>\n",
       "      <td>min</td>\n",
       "      <td>37.000000</td>\n",
       "      <td>NaN</td>\n",
       "      <td>NaN</td>\n",
       "      <td>NaN</td>\n",
       "      <td>NaN</td>\n",
       "      <td>NaN</td>\n",
       "      <td>NaN</td>\n",
       "      <td>NaN</td>\n",
       "    </tr>\n",
       "    <tr>\n",
       "      <td>25%</td>\n",
       "      <td>249389.000000</td>\n",
       "      <td>NaN</td>\n",
       "      <td>NaN</td>\n",
       "      <td>NaN</td>\n",
       "      <td>NaN</td>\n",
       "      <td>NaN</td>\n",
       "      <td>NaN</td>\n",
       "      <td>NaN</td>\n",
       "    </tr>\n",
       "    <tr>\n",
       "      <td>50%</td>\n",
       "      <td>497936.500000</td>\n",
       "      <td>NaN</td>\n",
       "      <td>NaN</td>\n",
       "      <td>NaN</td>\n",
       "      <td>NaN</td>\n",
       "      <td>NaN</td>\n",
       "      <td>NaN</td>\n",
       "      <td>NaN</td>\n",
       "    </tr>\n",
       "    <tr>\n",
       "      <td>75%</td>\n",
       "      <td>752326.750000</td>\n",
       "      <td>NaN</td>\n",
       "      <td>NaN</td>\n",
       "      <td>NaN</td>\n",
       "      <td>NaN</td>\n",
       "      <td>NaN</td>\n",
       "      <td>NaN</td>\n",
       "      <td>NaN</td>\n",
       "    </tr>\n",
       "    <tr>\n",
       "      <td>max</td>\n",
       "      <td>999957.000000</td>\n",
       "      <td>NaN</td>\n",
       "      <td>NaN</td>\n",
       "      <td>NaN</td>\n",
       "      <td>NaN</td>\n",
       "      <td>NaN</td>\n",
       "      <td>NaN</td>\n",
       "      <td>NaN</td>\n",
       "    </tr>\n",
       "  </tbody>\n",
       "</table>\n",
       "</div>"
      ],
      "text/plain": [
       "              user_id        date  device    sex  page_home  \\\n",
       "count    30200.000000       30200   30200  30200      30200   \n",
       "unique            NaN         120       1      2          1   \n",
       "top               NaN  2015-02-08  Mobile   Male  home_page   \n",
       "freq              NaN         292   30200  15122      30200   \n",
       "mean    499158.394702         NaN     NaN    NaN        NaN   \n",
       "std     289052.518706         NaN     NaN    NaN        NaN   \n",
       "min         37.000000         NaN     NaN    NaN        NaN   \n",
       "25%     249389.000000         NaN     NaN    NaN        NaN   \n",
       "50%     497936.500000         NaN     NaN    NaN        NaN   \n",
       "75%     752326.750000         NaN     NaN    NaN        NaN   \n",
       "max     999957.000000         NaN     NaN    NaN        NaN   \n",
       "\n",
       "                page_confirmation page_payment_page  page_search  \n",
       "count                         302              3020        15100  \n",
       "unique                          1                 1            1  \n",
       "top     payment_confirmation_page      payment_page  search_page  \n",
       "freq                          302              3020        15100  \n",
       "mean                          NaN               NaN          NaN  \n",
       "std                           NaN               NaN          NaN  \n",
       "min                           NaN               NaN          NaN  \n",
       "25%                           NaN               NaN          NaN  \n",
       "50%                           NaN               NaN          NaN  \n",
       "75%                           NaN               NaN          NaN  \n",
       "max                           NaN               NaN          NaN  "
      ]
     },
     "execution_count": 47,
     "metadata": {},
     "output_type": "execute_result"
    }
   ],
   "source": [
    "df_mobile=df[df[\"device\"]==\"Mobile\"]\n",
    "df_mobile.describe(include=\"all\")"
   ]
  },
  {
   "cell_type": "code",
   "execution_count": 57,
   "metadata": {},
   "outputs": [
    {
     "name": "stdout",
     "output_type": "stream",
     "text": [
      "{'Page': ['home', 'search', 'payment'], 'Conversion Rate': [0.5, 0.19999999999999996, 0.09999999999999998]}\n",
      "      Page  Conversion Rate\n",
      "0     home              0.5\n",
      "1   search              0.2\n",
      "2  payment              0.1\n"
     ]
    }
   ],
   "source": [
    "mobile_rates = conversion_rate(df_mobile)\n",
    "names = ['home', 'search', 'payment']\n",
    "maps = {'Page': ['home', 'search', 'payment'], 'Conversion Rate': mobile_rates}\n",
    "print(maps)\n",
    "overall_conv_mobile = pandas.DataFrame(maps, columns=['Page', 'Conversion Rate'])\n",
    "print(overall_conv_mobile)"
   ]
  },
  {
   "cell_type": "code",
   "execution_count": 49,
   "metadata": {},
   "outputs": [
    {
     "data": {
      "text/html": [
       "<div>\n",
       "<style scoped>\n",
       "    .dataframe tbody tr th:only-of-type {\n",
       "        vertical-align: middle;\n",
       "    }\n",
       "\n",
       "    .dataframe tbody tr th {\n",
       "        vertical-align: top;\n",
       "    }\n",
       "\n",
       "    .dataframe thead th {\n",
       "        text-align: right;\n",
       "    }\n",
       "</style>\n",
       "<table border=\"1\" class=\"dataframe\">\n",
       "  <thead>\n",
       "    <tr style=\"text-align: right;\">\n",
       "      <th></th>\n",
       "      <th>Page</th>\n",
       "      <th>desktop</th>\n",
       "      <th>mobile</th>\n",
       "    </tr>\n",
       "  </thead>\n",
       "  <tbody>\n",
       "    <tr>\n",
       "      <td>0</td>\n",
       "      <td>home</td>\n",
       "      <td>0.500000</td>\n",
       "      <td>0.5</td>\n",
       "    </tr>\n",
       "    <tr>\n",
       "      <td>1</td>\n",
       "      <td>search</td>\n",
       "      <td>0.100000</td>\n",
       "      <td>0.2</td>\n",
       "    </tr>\n",
       "    <tr>\n",
       "      <td>2</td>\n",
       "      <td>payment</td>\n",
       "      <td>0.049834</td>\n",
       "      <td>0.1</td>\n",
       "    </tr>\n",
       "  </tbody>\n",
       "</table>\n",
       "</div>"
      ],
      "text/plain": [
       "      Page   desktop  mobile\n",
       "0     home  0.500000     0.5\n",
       "1   search  0.100000     0.2\n",
       "2  payment  0.049834     0.1"
      ]
     },
     "execution_count": 49,
     "metadata": {},
     "output_type": "execute_result"
    }
   ],
   "source": [
    "overall_device=pandas.merge(left=overall_conv_desktop,right=overall_conv_mobile,how=\"inner\",on=\"Page\")\n",
    "overall_device.rename(columns={'Conversion Rate_x':'desktop','Conversion Rate_y':'mobile'})"
   ]
  },
  {
   "cell_type": "code",
   "execution_count": 52,
   "metadata": {},
   "outputs": [
    {
     "name": "stdout",
     "output_type": "stream",
     "text": [
      "{'Page': ['home', 'search', 'payment', 'home', 'search', 'payment'], 'Device': ['Desktop', 'Desktop', 'Desktop', 'Mobile', 'Mobile', 'Mobile'], 'Conversion Rate': [0.5, 0.09999999999999998, 0.04983388704318936, 0.5, 0.19999999999999996, 0.09999999999999998]}\n",
      "      Page   Device  Conversion Rate\n",
      "0     home  Desktop         0.500000\n",
      "1   search  Desktop         0.100000\n",
      "2  payment  Desktop         0.049834\n",
      "3     home   Mobile         0.500000\n",
      "4   search   Mobile         0.200000\n",
      "5  payment   Mobile         0.100000\n"
     ]
    }
   ],
   "source": [
    "\n",
    "# Visualization\n",
    "maps = {'Page': ['home', 'search', 'payment', 'home', 'search', 'payment'], \n",
    "        'Device': ['Desktop', 'Desktop', 'Desktop', 'Mobile', 'Mobile', 'Mobile'], \n",
    "        'Conversion Rate': desktop_rates + mobile_rates}\n",
    "device_conv = pandas.DataFrame(maps, columns=['Page', 'Device', 'Conversion Rate'])\n",
    "print(maps)\n",
    "print(device_conv)"
   ]
  },
  {
   "cell_type": "code",
   "execution_count": 53,
   "metadata": {},
   "outputs": [
    {
     "data": {
      "image/png": "[encoded data removed]",
      "text/plain": [
       "<Figure size 576x360 with 1 Axes>"
      ]
     },
     "metadata": {
      "needs_background": "light"
     },
     "output_type": "display_data"
    }
   ],
   "source": [
    "fig, ax = plt.subplots(figsize=(8, 5))\n",
    "sns.barplot(x='Page', y='Conversion Rate', data=device_conv, ax=ax, hue='Device')\n",
    "plt.show()"
   ]
  },
  {
   "cell_type": "markdown",
   "metadata": {},
   "source": [
    "#for the home page conversion, mobile and desktop have similar conversion rate. However, for the search page and payment, the mobile conversion rate is higher than desktop conversion rate."
   ]
  },
  {
   "cell_type": "markdown",
   "metadata": {},
   "source": [
    "### 3. based on sex\n"
   ]
  },
  {
   "cell_type": "code",
   "execution_count": 58,
   "metadata": {},
   "outputs": [
    {
     "name": "stdout",
     "output_type": "stream",
     "text": [
      "      Page  Conversion Rate\n",
      "0     home         0.496944\n",
      "1   search         0.130083\n",
      "2  payment         0.072014\n"
     ]
    }
   ],
   "source": [
    "male_rates=conversion_rate(df[df['sex']=='Male'])\n",
    "names = ['home', 'search', 'payment']\n",
    "maps = {'Page': ['home', 'search', 'payment'], 'Conversion Rate': male_rates}\n",
    "overall_conv_male = pandas.DataFrame(maps, columns=['Page', 'Conversion Rate'])\n",
    "print(overall_conv_male)"
   ]
  },
  {
   "cell_type": "code",
   "execution_count": 59,
   "metadata": {},
   "outputs": [
    {
     "name": "stdout",
     "output_type": "stream",
     "text": [
      "      Page  Conversion Rate\n",
      "0     home         0.496944\n",
      "1   search         0.130083\n",
      "2  payment         0.072014\n"
     ]
    }
   ],
   "source": [
    "female_rates=conversion_rate(df[df['sex']=='Female'])\n",
    "names = ['home', 'search', 'payment']\n",
    "maps = {'Page': ['home', 'search', 'payment'], 'Conversion Rate': male_rates}\n",
    "overall_conv_female = pandas.DataFrame(maps, columns=['Page', 'Conversion Rate'])\n",
    "print(overall_conv_female)"
   ]
  },
  {
   "cell_type": "code",
   "execution_count": 60,
   "metadata": {},
   "outputs": [
    {
     "data": {
      "text/html": [
       "<div>\n",
       "<style scoped>\n",
       "    .dataframe tbody tr th:only-of-type {\n",
       "        vertical-align: middle;\n",
       "    }\n",
       "\n",
       "    .dataframe tbody tr th {\n",
       "        vertical-align: top;\n",
       "    }\n",
       "\n",
       "    .dataframe thead th {\n",
       "        text-align: right;\n",
       "    }\n",
       "</style>\n",
       "<table border=\"1\" class=\"dataframe\">\n",
       "  <thead>\n",
       "    <tr style=\"text-align: right;\">\n",
       "      <th></th>\n",
       "      <th>Page</th>\n",
       "      <th>Conversion Rate_x</th>\n",
       "      <th>Conversion Rate_y</th>\n",
       "    </tr>\n",
       "  </thead>\n",
       "  <tbody>\n",
       "    <tr>\n",
       "      <td>0</td>\n",
       "      <td>home</td>\n",
       "      <td>0.496944</td>\n",
       "      <td>0.496944</td>\n",
       "    </tr>\n",
       "    <tr>\n",
       "      <td>1</td>\n",
       "      <td>search</td>\n",
       "      <td>0.130083</td>\n",
       "      <td>0.130083</td>\n",
       "    </tr>\n",
       "    <tr>\n",
       "      <td>2</td>\n",
       "      <td>payment</td>\n",
       "      <td>0.072014</td>\n",
       "      <td>0.072014</td>\n",
       "    </tr>\n",
       "  </tbody>\n",
       "</table>\n",
       "</div>"
      ],
      "text/plain": [
       "      Page  Conversion Rate_x  Conversion Rate_y\n",
       "0     home           0.496944           0.496944\n",
       "1   search           0.130083           0.130083\n",
       "2  payment           0.072014           0.072014"
      ]
     },
     "execution_count": 60,
     "metadata": {},
     "output_type": "execute_result"
    }
   ],
   "source": [
    "df_final_sex=pandas.merge(left=overall_conv_male,right=overall_conv_female,how=\"inner\",on=\"Page\")\n",
    "df_final_sex"
   ]
  },
  {
   "cell_type": "code",
   "execution_count": 63,
   "metadata": {},
   "outputs": [
    {
     "data": {
      "text/html": [
       "<div>\n",
       "<style scoped>\n",
       "    .dataframe tbody tr th:only-of-type {\n",
       "        vertical-align: middle;\n",
       "    }\n",
       "\n",
       "    .dataframe tbody tr th {\n",
       "        vertical-align: top;\n",
       "    }\n",
       "\n",
       "    .dataframe thead th {\n",
       "        text-align: right;\n",
       "    }\n",
       "</style>\n",
       "<table border=\"1\" class=\"dataframe\">\n",
       "  <thead>\n",
       "    <tr style=\"text-align: right;\">\n",
       "      <th></th>\n",
       "      <th>Page</th>\n",
       "      <th>sex</th>\n",
       "      <th>conversion rate</th>\n",
       "    </tr>\n",
       "  </thead>\n",
       "  <tbody>\n",
       "    <tr>\n",
       "      <td>0</td>\n",
       "      <td>home</td>\n",
       "      <td>male</td>\n",
       "      <td>0.496944</td>\n",
       "    </tr>\n",
       "    <tr>\n",
       "      <td>1</td>\n",
       "      <td>search</td>\n",
       "      <td>male</td>\n",
       "      <td>0.130083</td>\n",
       "    </tr>\n",
       "    <tr>\n",
       "      <td>2</td>\n",
       "      <td>payment</td>\n",
       "      <td>male</td>\n",
       "      <td>0.072014</td>\n",
       "    </tr>\n",
       "    <tr>\n",
       "      <td>3</td>\n",
       "      <td>home</td>\n",
       "      <td>female</td>\n",
       "      <td>0.503073</td>\n",
       "    </tr>\n",
       "    <tr>\n",
       "      <td>4</td>\n",
       "      <td>search</td>\n",
       "      <td>female</td>\n",
       "      <td>0.136708</td>\n",
       "    </tr>\n",
       "    <tr>\n",
       "      <td>5</td>\n",
       "      <td>payment</td>\n",
       "      <td>female</td>\n",
       "      <td>0.077742</td>\n",
       "    </tr>\n",
       "  </tbody>\n",
       "</table>\n",
       "</div>"
      ],
      "text/plain": [
       "      Page     sex  conversion rate\n",
       "0     home    male         0.496944\n",
       "1   search    male         0.130083\n",
       "2  payment    male         0.072014\n",
       "3     home  female         0.503073\n",
       "4   search  female         0.136708\n",
       "5  payment  female         0.077742"
      ]
     },
     "execution_count": 63,
     "metadata": {},
     "output_type": "execute_result"
    }
   ],
   "source": [
    "maps={'Page':['home','search','payment','home','search','payment'],\n",
    "      'sex':['male','male','male','female','female','female'],\n",
    "      'conversion rate':male_rates+female_rates}\n",
    "sex_conv=pandas.DataFrame(maps,columns=['Page','sex','conversion rate'])\n",
    "sex_conv"
   ]
  },
  {
   "cell_type": "code",
   "execution_count": 66,
   "metadata": {},
   "outputs": [
    {
     "data": {
      "image/png": "[encoded data removed]",
      "text/plain": [
       "<Figure size 576x360 with 1 Axes>"
      ]
     },
     "metadata": {
      "needs_background": "light"
     },
     "output_type": "display_data"
    }
   ],
   "source": [
    "fig, ax=plt.subplots(figsize=(8,5))\n",
    "sns.barplot(x='Page',y='conversion rate',data=sex_conv,hue='sex',ax=ax)\n",
    "plt.show()"
   ]
  },
  {
   "cell_type": "markdown",
   "metadata": {},
   "source": [
    "#female conversion rate is a little bit higher than male, so the product team could focus on male segment to increase product characteristics that can attract male consumers. "
   ]
  }
 ],
 "metadata": {
  "kernelspec": {
   "display_name": "Python 3",
   "language": "python",
   "name": "python3"
  },
  "language_info": {
   "codemirror_mode": {
    "name": "ipython",
    "version": 3
   },
   "file_extension": ".py",
   "mimetype": "text/x-python",
   "name": "python",
   "nbconvert_exporter": "python",
   "pygments_lexer": "ipython3",
   "version": "3.7.4"
  }
 },
 "nbformat": 4,
 "nbformat_minor": 2
}
